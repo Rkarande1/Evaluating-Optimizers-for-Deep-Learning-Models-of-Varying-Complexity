{
 "cells": [
  {
   "cell_type": "code",
   "execution_count": 1,
   "metadata": {
    "colab": {
     "base_uri": "https://localhost:8080/"
    },
    "executionInfo": {
     "elapsed": 28350,
     "status": "ok",
     "timestamp": 1751314100267,
     "user": {
      "displayName": "Tanish Mittal",
      "userId": "15821805239102483903"
     },
     "user_tz": -120
    },
    "id": "DfE0229sQoGB",
    "outputId": "36a43c64-7808-4983-af8a-fd43e62ae7b1"
   },
   "outputs": [
    {
     "name": "stdout",
     "output_type": "stream",
     "text": [
      "Mounted at /content/drive\n"
     ]
    }
   ],
   "source": [
    "from google.colab import drive\n",
    "drive.mount('/content/drive')"
   ]
  },
  {
   "cell_type": "code",
   "execution_count": null,
   "metadata": {
    "colab": {
     "base_uri": "https://localhost:8080/"
    },
    "executionInfo": {
     "elapsed": 227,
     "status": "ok",
     "timestamp": 1751280291947,
     "user": {
      "displayName": "Tanish Mittal",
      "userId": "15821805239102483903"
     },
     "user_tz": -120
    },
    "id": "sVAfaLTxQzLI",
    "outputId": "c20e1493-8cad-40a0-8b56-161229d0af45"
   },
   "outputs": [],
   "source": [
    "!nvidia-smi"
   ]
  },
  {
   "cell_type": "code",
   "execution_count": null,
   "metadata": {
    "colab": {
     "base_uri": "https://localhost:8080/"
    },
    "executionInfo": {
     "elapsed": 6,
     "status": "ok",
     "timestamp": 1751099631487,
     "user": {
      "displayName": "Tanish Mittal",
      "userId": "15821805239102483903"
     },
     "user_tz": -120
    },
    "id": "DPQWUiccUKN0",
    "outputId": "8efc56e3-5ef1-4923-efbb-9b1a2c7a976b"
   },
   "outputs": [],
   "source": [
    "import os\n",
    "print(f\"Number of CPU cores detected: {os.cpu_count()}\")"
   ]
  },
  {
   "cell_type": "code",
   "execution_count": null,
   "metadata": {
    "colab": {
     "base_uri": "https://localhost:8080/"
    },
    "executionInfo": {
     "elapsed": 2015,
     "status": "ok",
     "timestamp": 1751314102283,
     "user": {
      "displayName": "Tanish Mittal",
      "userId": "15821805239102483903"
     },
     "user_tz": -120
    },
    "id": "L8PW2e89QzIv",
    "outputId": "dfe9311b-f20c-4355-ca48-bda175e26e5e"
   },
   "outputs": [
    {
     "name": "stdout",
     "output_type": "stream",
     "text": [
      "/content/drive/MyDrive/Raj\n"
     ]
    }
   ],
   "source": [
    "# After mounting drive, navigate to your code directory\n",
    "%cd /content/drive/MyDrive/Raj\n",
    "\n"
   ]
  },
  {
   "cell_type": "code",
   "execution_count": null,
   "metadata": {
    "colab": {
     "base_uri": "https://localhost:8080/"
    },
    "collapsed": true,
    "executionInfo": {
     "elapsed": 92878,
     "status": "ok",
     "timestamp": 1751314195162,
     "user": {
      "displayName": "Tanish Mittal",
      "userId": "15821805239102483903"
     },
     "user_tz": -120
    },
    "id": "F7Z0BwHFRfLy",
    "outputId": "f3893b3b-a65c-4ad8-ac2f-5e82b7e1fd8e"
   },
   "outputs": [],
   "source": [
    "!pip install albumentations \n",
    "!pip install torchmetrics==1.7.3 \n",
    "!pip install tqdm\n",
    "!pip install optuna\n",
    "!pip install tqdm"
   ]
  },
  {
   "cell_type": "code",
   "execution_count": 4,
   "metadata": {
    "executionInfo": {
     "elapsed": 267975,
     "status": "ok",
     "timestamp": 1751314463167,
     "user": {
      "displayName": "Tanish Mittal",
      "userId": "15821805239102483903"
     },
     "user_tz": -120
    },
    "id": "AQI4XvDi8ZeD"
   },
   "outputs": [],
   "source": [
    "\n",
    "!cp -r \"/content/drive/MyDrive/Raj/data\" \"/content/\""
   ]
  },
  {
   "cell_type": "markdown",
   "metadata": {},
   "source": [
    "### Optimisation run for hyperparameters ###"
   ]
  },
  {
   "cell_type": "code",
   "execution_count": null,
   "metadata": {
    "colab": {
     "base_uri": "https://localhost:8080/"
    },
    "collapsed": true,
    "executionInfo": {
     "elapsed": 3901421,
     "status": "ok",
     "timestamp": 1751307343150,
     "user": {
      "displayName": "Tanish Mittal",
      "userId": "15821805239102483903"
     },
     "user_tz": -120
    },
    "id": "Axy6P_Y9bmxd",
    "outputId": "5b5e5708-469f-429e-8d57-34f14766800c"
   },
   "outputs": [],
   "source": [
    "!python optimsation.py \\"
   ]
  },
  {
   "cell_type": "code",
   "execution_count": null,
   "metadata": {
    "colab": {
     "base_uri": "https://localhost:8080/"
    },
    "collapsed": true,
    "executionInfo": {
     "elapsed": 520663,
     "status": "ok",
     "timestamp": 1751314983833,
     "user": {
      "displayName": "Tanish Mittal",
      "userId": "15821805239102483903"
     },
     "user_tz": -120
    },
    "id": "7LRyjHoqOAHq",
    "outputId": "dbfad60d-2290-4719-cddd-f1e6e72abe5d"
   },
   "outputs": [],
   "source": [
    "!python train.py \\\n",
    "--data_dir \"/content/drive/MyDrive/Raj/data/VOCdevkit/VOC2012\" \\\n",
    "--checkpoint_path \"/content/drive/MyDrive/Raj/Checkpoints/checkpoint_adamW_final_TEST.pth\" \\\n",
    "--epochs 50\\\n",
    "--patience 10\n"
   ]
  },
  {
   "cell_type": "markdown",
   "metadata": {},
   "source": [
    "### Traing Unet on seperate Optimizers with the best optimser parameters found from earlier ###"
   ]
  },
  {
   "cell_type": "code",
   "execution_count": null,
   "metadata": {
    "colab": {
     "base_uri": "https://localhost:8080/"
    },
    "collapsed": true,
    "executionInfo": {
     "elapsed": 771986,
     "status": "ok",
     "timestamp": 1751316251187,
     "user": {
      "displayName": "Tanish Mittal",
      "userId": "15821805239102483903"
     },
     "user_tz": -120
    },
    "id": "tNP5B9_FRfJR",
    "outputId": "da297735-9df5-4c4e-c27c-b782424d9237"
   },
   "outputs": [],
   "source": [
    "!python train.py \\ \n",
    "--data_dir \"/content/drive/MyDrive/Raj/data/VOCdevkit/VOC2012\" \\\n",
    "--checkpoint_path \"/content/drive/MyDrive/Raj/Checkpoints/checkpoint_sgd_final_TEST.pth\" \\\n",
    "--epochs 50\\\n",
    "--patience 10\n"
   ]
  },
  {
   "cell_type": "code",
   "execution_count": null,
   "metadata": {
    "id": "J7q3pwAJdd5y"
   },
   "outputs": [],
   "source": [
    "!python train.py \\\n",
    "--data_dir \"/content/drive/MyDrive/Raj/data/VOCdevkit/VOC2012\" \\\n",
    "--checkpoint_path \"/content/drive/MyDrive/Raj/Checkpoints/checkpoint_sgd_momentum_final_TEST.pth\" \\\n",
    "--epochs 50\\\n",
    "--patience 10"
   ]
  },
  {
   "cell_type": "code",
   "execution_count": null,
   "metadata": {
    "colab": {
     "base_uri": "https://localhost:8080/"
    },
    "collapsed": true,
    "executionInfo": {
     "elapsed": 755689,
     "status": "ok",
     "timestamp": 1751308882656,
     "user": {
      "displayName": "Tanish Mittal",
      "userId": "15821805239102483903"
     },
     "user_tz": -120
    },
    "id": "ozPZHghTbpur",
    "outputId": "43a322b0-c5b8-4f40-c427-63f7cac17b11"
   },
   "outputs": [],
   "source": [
    "!python train.py \\\n",
    "--data_dir \"/content/drive/MyDrive/Raj/data/VOCdevkit/VOC2012\" \\\n",
    "--checkpoint_path \"/content/drive/MyDrive/Raj/Checkpoints/checkpoint_adam_final_TEST.pth\" \\\n",
    "--epochs 50\\\n",
    "--patience 10\n"
   ]
  },
  {
   "cell_type": "code",
   "execution_count": null,
   "metadata": {
    "colab": {
     "base_uri": "https://localhost:8080/"
    },
    "collapsed": true,
    "executionInfo": {
     "elapsed": 679186,
     "status": "ok",
     "timestamp": 1751309966940,
     "user": {
      "displayName": "Tanish Mittal",
      "userId": "15821805239102483903"
     },
     "user_tz": -120
    },
    "id": "114LEIYGzI-K",
    "outputId": "334db20b-3a24-4a7e-edb4-2f9d39183158"
   },
   "outputs": [],
   "source": [
    "!python train.py \\\n",
    "--data_dir \"/content/drive/MyDrive/Raj/data/VOCdevkit/VOC2012\" \\\n",
    "--checkpoint_path \"/content/drive/MyDrive/Raj/Checkpoints/checkpoint_rsmprop_final_TEST.pth\" \\\n",
    "--epochs 50\\\n",
    "--patience 10\n"
   ]
  },
  {
   "cell_type": "markdown",
   "metadata": {},
   "source": [
    "### Creating Individual plots for each optimser by running this block repeatedly ###"
   ]
  },
  {
   "cell_type": "code",
   "execution_count": null,
   "metadata": {
    "colab": {
     "base_uri": "https://localhost:8080/"
    },
    "executionInfo": {
     "elapsed": 2997,
     "status": "ok",
     "timestamp": 1751316284688,
     "user": {
      "displayName": "Tanish Mittal",
      "userId": "15821805239102483903"
     },
     "user_tz": -120
    },
    "id": "fNlCWpFUtSow",
    "outputId": "0de87493-b9bf-4545-cefc-868023793e6f"
   },
   "outputs": [],
   "source": [
    "# Cell 3: Plotting Script \n",
    "\n",
    "# Standard library imports\n",
    "import os\n",
    "import json\n",
    "import numpy as np\n",
    "\n",
    "# Third-party imports\n",
    "import torch\n",
    "import matplotlib.pyplot as plt\n",
    "import matplotlib\n",
    "import seaborn as sns\n",
    "\n",
    "# Set Matplotlib backend for non-interactive plotting\n",
    "matplotlib.use('Agg')\n",
    "\n",
    "# --- Paths to your Saved Data ---\n",
    "base_output_dir = \"/content/drive/MyDrive/Raj/Checkpoints\" \n",
    "\n",
    "run_data_dir = os.path.join(base_output_dir, \"run_data\")\n",
    "\n",
    "optimizer_name = \"SGD_Momentum\" # \"SGD\",\"SGD_Momentum\",etc\n",
    "\n",
    "history_file = os.path.join(run_data_dir, f\"{optimizer_name}_training_history.json\")\n",
    "confusion_matrix_file = os.path.join(run_data_dir, f\"{optimizer_name}_confusion_matrix.pt\")\n",
    "\n",
    "# Output directory for the plots themselves\n",
    "plot_output_dir = os.path.join(base_output_dir, \"plots\")\n",
    "os.makedirs(plot_output_dir, exist_ok=True)\n",
    "\n",
    "\n",
    "# --- Load the Saved Data ---\n",
    "print(f\"Loading training history from: {history_file}\")\n",
    "try:\n",
    "    with open(history_file, 'r') as f:\n",
    "        history_data = json.load(f)\n",
    "    train_losses = history_data[\"train_losses\"]\n",
    "    val_losses = history_data[\"val_losses\"]\n",
    "    val_mious = history_data[\"val_mious\"]\n",
    "    val_pixel_accuracies = history_data[\"val_pixel_accuracies\"]\n",
    "    print(\"Training history loaded successfully.\")\n",
    "except FileNotFoundError:\n",
    "    print(f\"Error: Training history file not found at {history_file}.\")\n",
    "    train_losses, val_losses, val_mious, val_pixel_accuracies = [], [], [], []\n",
    "except json.JSONDecodeError:\n",
    "    print(f\"Error: Could not decode JSON from {history_file}. File might be corrupted.\")\n",
    "    train_losses, val_losses, val_mious, val_pixel_accuracies = [], [], [], []\n",
    "\n",
    "print(f\"Loading confusion matrix from: {confusion_matrix_file}\")\n",
    "try:\n",
    "    final_confusion_matrix = torch.load(confusion_matrix_file)\n",
    "    print(\"Confusion matrix loaded successfully.\")\n",
    "except FileNotFoundError:\n",
    "    print(f\"Error: Confusion matrix file not found at {confusion_matrix_file}. \")\n",
    "    final_confusion_matrix = None\n",
    "except Exception as e:\n",
    "    print(f\"Error loading confusion matrix: {e}\")\n",
    "    final_confusion_matrix = None\n",
    "\n",
    "\n",
    "# --- Plotting Functions (copied from your utils) ---\n",
    "\n",
    "def plot_losses(train_losses, val_losses, val_mious, val_pixel_accuracies, save_path, optimizer_name, epoch_offset=0):\n",
    "  \n",
    "    #Plots training and validation losses, mIoU, and Pixel Accuracy.\n",
    "   \n",
    "    epochs = range(epoch_offset + 1, epoch_offset + len(train_losses) + 1)\n",
    "\n",
    "    if not epochs:\n",
    "        print(f\"No data to plot for {optimizer_name}.\")\n",
    "        return\n",
    "\n",
    "    fig, axes = plt.subplots(nrows=2, ncols=1, figsize=(10, 12))\n",
    "    fig.suptitle(f'Training and Validation Metrics ({optimizer_name})', fontsize=16)\n",
    "\n",
    "    # Plot Losses\n",
    "    axes[0].plot(epochs, train_losses, label='Train Loss', marker='o', linestyle='-')\n",
    "    axes[0].plot(epochs, val_losses, label='Validation Loss', marker='x', linestyle='--')\n",
    "    axes[0].set_title('Loss over Epochs')\n",
    "    axes[0].set_xlabel('Epoch')\n",
    "    axes[0].set_ylabel('Loss')\n",
    "    axes[0].legend()\n",
    "    axes[0].grid(True)\n",
    "\n",
    "    # Plot mIoU and Pixel Accuracy\n",
    "    axes[1].plot(epochs, val_mious, label='Validation mIoU', marker='o', linestyle='-')\n",
    "    axes[1].plot(epochs, val_pixel_accuracies, label='Validation Pixel Accuracy', marker='x', linestyle='--')\n",
    "    axes[1].set_title('Validation Metrics over Epochs')\n",
    "    axes[1].set_xlabel('Epoch')\n",
    "    axes[1].set_ylabel('Metric Value')\n",
    "    axes[1].legend()\n",
    "    axes[1].grid(True)\n",
    "\n",
    "    plt.tight_layout(rect=[0, 0.03, 1, 0.96])\n",
    "    plt.savefig(save_path, dpi=300)\n",
    "    plt.close(fig)\n",
    "    print(f\"Training metrics plot saved to {save_path}\")\n",
    "\n",
    "\n",
    "def plot_confusion_matrix(cm_tensor, num_classes, class_labels, save_path):\n",
    "\n",
    "    #Plots a normalized confusion matrix as a heatmap.\n",
    "    \n",
    "    if cm_tensor is None:\n",
    "        print(\"Confusion matrix tensor is None.\")\n",
    "        return\n",
    "\n",
    "    cm_numpy = cm_tensor.cpu().numpy()\n",
    "\n",
    "    cm_normalized = cm_numpy.astype('float') / (cm_numpy.sum(axis=1)[:, np.newaxis] + 1e-6)\n",
    "\n",
    "    fig, ax = plt.subplots(figsize=(12, 10))\n",
    "    sns.heatmap(cm_normalized, annot=True, fmt=\".2f\", cmap=\"Blues\", ax=ax,\n",
    "                xticklabels=class_labels, yticklabels=class_labels,\n",
    "                cbar_kws={'label': 'Normalized Frequency'})\n",
    "\n",
    "    ax.set_title('Normalized Confusion Matrix')\n",
    "    ax.set_xlabel('Predicted Label')\n",
    "    ax.set_ylabel('True Label')\n",
    "\n",
    "    plt.tight_layout()\n",
    "    plt.savefig(save_path, dpi=300)\n",
    "    plt.close(fig)\n",
    "    print(f\"Confusion matrix plot saved to {save_path}\")\n",
    "\n",
    "\n",
    "# --- Execute Plotting ---\n",
    "\n",
    "pascal_voc_class_labels = [\n",
    "    \"background\", \"aeroplane\", \"bicycle\", \"bird\", \"boat\", \"bottle\", \"bus\",\n",
    "    \"car\", \"cat\", \"chair\", \"cow\", \"diningtable\", \"dog\", \"horse\", \"motorbike\",\n",
    "    \"person\", \"pottedplant\", \"sheep\", \"sofa\", \"train\", \"tvmonitor\"\n",
    "]\n",
    "\n",
    "# Plot training metrics\n",
    "if train_losses and val_losses and val_mious and val_pixel_accuracies:\n",
    "    training_plot_path = os.path.join(plot_output_dir, f\"{optimizer_name}_training_metrics.png\")\n",
    "    plot_losses(train_losses, val_losses, val_mious, val_pixel_accuracies,\n",
    "                save_path=training_plot_path,\n",
    "                optimizer_name=optimizer_name,\n",
    "                epoch_offset=0)\n",
    "else:\n",
    "    print(\"Not enough data to plot training metrics.\")\n",
    "\n",
    "# Plot confusion matrix\n",
    "if final_confusion_matrix is not None:\n",
    "    confusion_matrix_plot_path = os.path.join(plot_output_dir, f\"{optimizer_name}_confusion_matrix.png\")\n",
    "    plot_confusion_matrix(final_confusion_matrix,\n",
    "                          num_classes=len(pascal_voc_class_labels),\n",
    "                          class_labels=pascal_voc_class_labels,\n",
    "                          save_path=confusion_matrix_plot_path)\n",
    "else:\n",
    "    print(\"Confusion matrix data not available.\")\n",
    "\n",
    "print(\"\\nPlotting script finished.\")"
   ]
  },
  {
   "cell_type": "markdown",
   "metadata": {},
   "source": [
    "### Creating and storing the combined plots ###"
   ]
  },
  {
   "cell_type": "code",
   "execution_count": null,
   "metadata": {
    "colab": {
     "base_uri": "https://localhost:8080/"
    },
    "executionInfo": {
     "elapsed": 4610,
     "status": "ok",
     "timestamp": 1751316293928,
     "user": {
      "displayName": "Tanish Mittal",
      "userId": "15821805239102483903"
     },
     "user_tz": -120
    },
    "id": "ssfoWu21WARr",
    "outputId": "dc524a9d-f5b3-473b-f7cd-675af39675fc"
   },
   "outputs": [],
   "source": [
    "#====Combined Plot Generation for comparision====\n",
    "import os\n",
    "import json\n",
    "import matplotlib.pyplot as plt\n",
    "import matplotlib\n",
    "import seaborn as sns\n",
    "\n",
    "# Set Matplotlib backend for non-interactive plotting\n",
    "matplotlib.use('Agg')\n",
    "\n",
    "\n",
    "# --- 1. Configuration for Comparison ---\n",
    "\n",
    "base_output_dir = \"/content/drive/MyDrive/Raj/Checkpoints\" \n",
    "\n",
    "\n",
    "run_data_dir = os.path.join(base_output_dir, \"run_data\")\n",
    "\n",
    "\n",
    "optimizers_to_compare = [\"Adam\",\"AdamW\", \"SGD\", \"RMSprop\",\"SGD_Momentum\"] \n",
    "\n",
    "# Output directory for the comparison plots\n",
    "plot_output_dir = os.path.join(base_output_dir, \"comparison_plots\")\n",
    "os.makedirs(plot_output_dir, exist_ok=True)\n",
    "\n",
    "\n",
    "# --- 2. Data Collection ---\n",
    "all_optimizer_data = {}\n",
    "\n",
    "print(f\"Loading data for optimizers: {optimizers_to_compare}\")\n",
    "for opt_name in optimizers_to_compare:\n",
    "\n",
    "\n",
    "    history_file_path = os.path.join(run_data_dir, f\"{opt_name}_training_history.json\")\n",
    "\n",
    "    print(f\"  Attempting to load {opt_name} history from: {history_file_path}\")\n",
    "    try:\n",
    "        with open(history_file_path, 'r') as f:\n",
    "            history_data = json.load(f)\n",
    "            all_optimizer_data[opt_name] = {\n",
    "                \"train_losses\": history_data.get(\"train_losses\", []),\n",
    "                \"val_losses\": history_data.get(\"val_losses\", []),\n",
    "                \"val_mious\": history_data.get(\"val_mious\", []),\n",
    "                \"val_pixel_accuracies\": history_data.get(\"val_pixel_accuracies\", []),\n",
    "            }\n",
    "            print(f\"  Successfully loaded data for {opt_name}.\")\n",
    "    except FileNotFoundError:\n",
    "        print(f\"  Warning: History file for {opt_name} not found at {history_file_path}\")\n",
    "    except json.JSONDecodeError:\n",
    "        print(f\"  Error: Could not decode JSON for {opt_name} from {history_file_path}. File might be corrupted\")\n",
    "    except KeyError as e:\n",
    "        print(f\"  Error: Missing expected history key {e} in {opt_name}'s history file\")\n",
    "\n",
    "if not all_optimizer_data:\n",
    "    print(\"No optimizer data loaded. Cannot generate comparison plots.\")\n",
    "else:\n",
    "    print(\"\\nData loading complete. Proceeding to plot.\")\n",
    "\n",
    "\n",
    "# --- 3. Plotting Function for Comparison ---\n",
    "\n",
    "def plot_optimizer_comparison(all_opt_data, plot_save_dir, plot_type):\n",
    "     #Plots a comparison of a specific metric (loss, mIoU, accuracy) across multiple optimizers.\n",
    "    if not all_opt_data:\n",
    "        print(f\"No data available for {plot_type} comparison plot.\")\n",
    "        return\n",
    "\n",
    "    fig, ax = plt.subplots(figsize=(12, 7))\n",
    "\n",
    "    max_epochs = 0\n",
    "    for opt_name, data in all_opt_data.items():\n",
    "        if plot_type == 'loss':\n",
    "            max_epochs = max(max_epochs, len(data.get('val_losses', [])))\n",
    "        elif plot_type == 'miou':\n",
    "            max_epochs = max(max_epochs, len(data.get('val_mious', [])))\n",
    "        elif plot_type == 'pixel_accuracy':\n",
    "            max_epochs = max(max_epochs, len(data.get('val_pixel_accuracies', [])))\n",
    "\n",
    "    if max_epochs == 0:\n",
    "        print(f\"No valid data to plot {plot_type} comparison.\")\n",
    "        plt.close(fig)\n",
    "        return\n",
    "\n",
    "    for opt_name, data in all_opt_data.items():\n",
    "        if plot_type == 'loss':\n",
    "            metric_data = data.get('val_losses', [])\n",
    "            title = 'Validation Loss Comparison'\n",
    "            ylabel = 'Loss'\n",
    "        elif plot_type == 'miou':\n",
    "            metric_data = data.get('val_mious', [])\n",
    "            title = 'Validation mIoU Comparison'\n",
    "            ylabel = 'mIoU'\n",
    "        elif plot_type == 'pixel_accuracy':\n",
    "            metric_data = data.get('val_pixel_accuracies', [])\n",
    "            title = 'Validation Pixel Accuracy Comparison'\n",
    "            ylabel = 'Pixel Accuracy'\n",
    "        else:\n",
    "            print(f\"Invalid plot_type: {plot_type}. Skipping {opt_name}.\")\n",
    "            continue\n",
    "\n",
    "        epochs = range(1, len(metric_data) + 1)\n",
    "        if epochs:\n",
    "            ax.plot(epochs, metric_data, label=f'{opt_name}', marker='o', markersize=4, linestyle='-')\n",
    "\n",
    "\n",
    "    ax.set_title(title)\n",
    "    ax.set_xlabel('Epoch')\n",
    "    ax.set_ylabel(ylabel)\n",
    "    ax.legend()\n",
    "    ax.grid(True)\n",
    "    ax.set_xlim(1, max_epochs)\n",
    "\n",
    "    plot_filename = os.path.join(plot_save_dir, f\"comparison_val_New_{plot_type}.png\")\n",
    "    plt.tight_layout()\n",
    "    plt.savefig(plot_filename, dpi=300)\n",
    "    plt.close(fig)\n",
    "    print(f\"Comparison plot saved for {plot_type}: {plot_filename}\")\n",
    "\n",
    "\n",
    "# --- 4. Execute Comparison Plotting ---\n",
    "if __name__ == \"__main__\":\n",
    "    plot_optimizer_comparison(all_optimizer_data, plot_output_dir, 'loss')\n",
    "    plot_optimizer_comparison(all_optimizer_data, plot_output_dir, 'miou')\n",
    "    plot_optimizer_comparison(all_optimizer_data, plot_output_dir, 'pixel_accuracy')\n",
    "\n",
    "    print(\"\\nAll comparison plots generated.\")"
   ]
  },
  {
   "cell_type": "markdown",
   "metadata": {},
   "source": []
  },
  {
   "cell_type": "code",
   "execution_count": null,
   "metadata": {
    "colab": {
     "base_uri": "https://localhost:8080/"
    },
    "executionInfo": {
     "elapsed": 18,
     "status": "ok",
     "timestamp": 1750781389689,
     "user": {
      "displayName": "Raj D.K",
      "userId": "10962093021202842535"
     },
     "user_tz": -120
    },
    "id": "dN79Bpl44AHO",
    "outputId": "d1a7036c-fa07-4573-c974-3254c0b5895c"
   },
   "outputs": [
    {
     "name": "stdout",
     "output_type": "stream",
     "text": [
      "Loading sample mask: /content/data/VOCdevkit/VOC2012/SegmentationClass/2007_000032.png\n",
      "Unique class numbers in sample mask '2007_000032.png': [  0  38 147 220]\n",
      "Minimum class number: 0\n",
      "Maximum class number: 220\n"
     ]
    }
   ],
   "source": []
  },
  {
   "cell_type": "markdown",
   "metadata": {},
   "source": []
  },
  {
   "cell_type": "code",
   "execution_count": null,
   "metadata": {
    "colab": {
     "base_uri": "https://localhost:8080/"
    },
    "executionInfo": {
     "elapsed": 3563,
     "status": "ok",
     "timestamp": 1750783273516,
     "user": {
      "displayName": "Raj D.K",
      "userId": "10962093021202842535"
     },
     "user_tz": -120
    },
    "id": "kRSH2XeWtDgk",
    "outputId": "2323956a-d178-4cc8-da4a-87196d99862a"
   },
   "outputs": [
    {
     "name": "stderr",
     "output_type": "stream",
     "text": [
      "100%|██████████| 1464/1464 [00:03<00:00, 411.54it/s]"
     ]
    },
    {
     "name": "stdout",
     "output_type": "stream",
     "text": [
      "Unique labels found in train masks: [0, 1, 2, 3, 4, 5, 6, 7, 8, 9, 10, 11, 12, 13, 14, 15, 16, 17, 18, 19, 20, 255]\n"
     ]
    },
    {
     "name": "stderr",
     "output_type": "stream",
     "text": [
      "\n"
     ]
    }
   ],
   "source": []
  },
  {
   "cell_type": "markdown",
   "metadata": {},
   "source": []
  },
  {
   "cell_type": "code",
   "execution_count": null,
   "metadata": {
    "id": "hJ5a5tkM3_9r"
   },
   "outputs": [
    {
     "name": "stderr",
     "output_type": "stream",
     "text": [
      "100%|██████████| 1464/1464 [00:10<00:00, 142.37it/s]\n",
      "100%|██████████| 999/999 [00:21<00:00, 45.70it/s]\n"
     ]
    }
   ],
   "source": []
  },
  {
   "cell_type": "markdown",
   "metadata": {},
   "source": []
  },
  {
   "cell_type": "code",
   "execution_count": null,
   "metadata": {},
   "outputs": [],
   "source": []
  }
 ],
 "metadata": {
  "accelerator": "GPU",
  "colab": {
   "gpuType": "A100",
   "machine_shape": "hm",
   "provenance": []
  },
  "kernelspec": {
   "display_name": "MachineLearning",
   "language": "python",
   "name": "python3"
  },
  "language_info": {
   "codemirror_mode": {
    "name": "ipython",
    "version": 3
   },
   "file_extension": ".py",
   "mimetype": "text/x-python",
   "name": "python",
   "nbconvert_exporter": "python",
   "pygments_lexer": "ipython3",
   "version": "3.10.15"
  }
 },
 "nbformat": 4,
 "nbformat_minor": 0
}
